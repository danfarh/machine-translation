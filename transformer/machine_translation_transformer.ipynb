{
  "cells": [
    {
      "cell_type": "code",
      "execution_count": null,
      "metadata": {
        "id": "rp0K3niKxPZU"
      },
      "outputs": [],
      "source": [
        "import tensorflow as tf\n",
        "import pandas as pd\n",
        "import re\n",
        "from sklearn.model_selection import train_test_split\n",
        "from keras.utils.vis_utils import plot_model\n",
        "import numpy as np\n",
        "import codecs\n",
        "import random\n",
        "import string\n",
        "from keras.callbacks import ModelCheckpoint\n",
        "import matplotlib.pyplot as plt\n",
        "%matplotlib inline"
      ]
    },
    {
      "cell_type": "code",
      "execution_count": null,
      "metadata": {
        "id": "_ts9J6fvnugp"
      },
      "outputs": [],
      "source": [
        "from tensorflow.keras import layers\n",
        "import tensorflow.keras as keras\n",
        "from tensorflow.keras.layers import TextVectorization\n",
        "from tensorflow.keras.preprocessing.text import Tokenizer\n",
        "from tensorflow.keras.preprocessing.sequence import pad_sequences"
      ]
    },
    {
      "cell_type": "code",
      "execution_count": null,
      "metadata": {
        "id": "9vwr46eByCod"
      },
      "outputs": [],
      "source": [
        "import warnings\n",
        "warnings.filterwarnings('ignore')"
      ]
    },
    {
      "cell_type": "markdown",
      "source": [
        "### **Read en,fa Data**"
      ],
      "metadata": {
        "id": "CNFuJphTwucJ"
      }
    },
    {
      "cell_type": "code",
      "source": [
        "%%time\n",
        "with open(\"TEP-fa.txt\") as f:\n",
        "    fa_file = f.read() \n",
        "\n",
        "with open(\"TEP-en.txt\") as f:\n",
        "    en_file = f.read()    "
      ],
      "metadata": {
        "colab": {
          "base_uri": "https://localhost:8080/"
        },
        "id": "X3Npx1zc4vhc",
        "outputId": "90f1d5bd-a7f1-4ab8-b5c1-49c631019fb5"
      },
      "execution_count": null,
      "outputs": [
        {
          "output_type": "stream",
          "name": "stdout",
          "text": [
            "CPU times: user 211 ms, sys: 109 ms, total: 320 ms\n",
            "Wall time: 319 ms\n"
          ]
        }
      ]
    },
    {
      "cell_type": "code",
      "source": [
        "fa_data = fa_file.strip().split('\\n')\n",
        "en_data = en_file.strip().split('\\n')"
      ],
      "metadata": {
        "id": "mgoXI8AcBhbY"
      },
      "execution_count": null,
      "outputs": []
    },
    {
      "cell_type": "code",
      "source": [
        "len(fa_data)"
      ],
      "metadata": {
        "colab": {
          "base_uri": "https://localhost:8080/"
        },
        "id": "W_ZAF7NLDlv2",
        "outputId": "3acb283a-2431-4fcb-d204-baa730ed2f20"
      },
      "execution_count": null,
      "outputs": [
        {
          "output_type": "execute_result",
          "data": {
            "text/plain": [
              "612086"
            ]
          },
          "metadata": {},
          "execution_count": 7
        }
      ]
    },
    {
      "cell_type": "code",
      "source": [
        "len(en_data)"
      ],
      "metadata": {
        "colab": {
          "base_uri": "https://localhost:8080/"
        },
        "id": "_RxKW3b-DpDA",
        "outputId": "50fc0539-89dd-4bff-82e4-4010bd095c0f"
      },
      "execution_count": null,
      "outputs": [
        {
          "output_type": "execute_result",
          "data": {
            "text/plain": [
              "612086"
            ]
          },
          "metadata": {},
          "execution_count": 8
        }
      ]
    },
    {
      "cell_type": "code",
      "source": [
        "data = pd.DataFrame(columns=['en','fa'])\n",
        "data['fa'] = fa_data\n",
        "data['en'] = en_data"
      ],
      "metadata": {
        "id": "bRXBN47HCub3"
      },
      "execution_count": null,
      "outputs": []
    },
    {
      "cell_type": "code",
      "source": [
        "data.head()"
      ],
      "metadata": {
        "colab": {
          "base_uri": "https://localhost:8080/",
          "height": 206
        },
        "id": "_HSkUrK6EHZo",
        "outputId": "64641cac-d220-494a-ef49-3c444e49772d"
      },
      "execution_count": null,
      "outputs": [
        {
          "output_type": "execute_result",
          "data": {
            "text/plain": [
              "                     en                                         fa\n",
              "0     raspy breathing .                               صداي خر خر .\n",
              "1                 dad .                                      پدر .\n",
              "2  maybe its the wind .                       شايد صداي باد باشه .\n",
              "3                  no .                                       نه .\n",
              "4    stop please stop .  دست نگه داريد خواهش ميکنم دست نگه داريد ."
            ],
            "text/html": [
              "\n",
              "  <div id=\"df-d7f82a4f-26d6-428b-9d09-356e6d877e89\">\n",
              "    <div class=\"colab-df-container\">\n",
              "      <div>\n",
              "<style scoped>\n",
              "    .dataframe tbody tr th:only-of-type {\n",
              "        vertical-align: middle;\n",
              "    }\n",
              "\n",
              "    .dataframe tbody tr th {\n",
              "        vertical-align: top;\n",
              "    }\n",
              "\n",
              "    .dataframe thead th {\n",
              "        text-align: right;\n",
              "    }\n",
              "</style>\n",
              "<table border=\"1\" class=\"dataframe\">\n",
              "  <thead>\n",
              "    <tr style=\"text-align: right;\">\n",
              "      <th></th>\n",
              "      <th>en</th>\n",
              "      <th>fa</th>\n",
              "    </tr>\n",
              "  </thead>\n",
              "  <tbody>\n",
              "    <tr>\n",
              "      <th>0</th>\n",
              "      <td>raspy breathing .</td>\n",
              "      <td>صداي خر خر .</td>\n",
              "    </tr>\n",
              "    <tr>\n",
              "      <th>1</th>\n",
              "      <td>dad .</td>\n",
              "      <td>پدر .</td>\n",
              "    </tr>\n",
              "    <tr>\n",
              "      <th>2</th>\n",
              "      <td>maybe its the wind .</td>\n",
              "      <td>شايد صداي باد باشه .</td>\n",
              "    </tr>\n",
              "    <tr>\n",
              "      <th>3</th>\n",
              "      <td>no .</td>\n",
              "      <td>نه .</td>\n",
              "    </tr>\n",
              "    <tr>\n",
              "      <th>4</th>\n",
              "      <td>stop please stop .</td>\n",
              "      <td>دست نگه داريد خواهش ميکنم دست نگه داريد .</td>\n",
              "    </tr>\n",
              "  </tbody>\n",
              "</table>\n",
              "</div>\n",
              "      <button class=\"colab-df-convert\" onclick=\"convertToInteractive('df-d7f82a4f-26d6-428b-9d09-356e6d877e89')\"\n",
              "              title=\"Convert this dataframe to an interactive table.\"\n",
              "              style=\"display:none;\">\n",
              "        \n",
              "  <svg xmlns=\"http://www.w3.org/2000/svg\" height=\"24px\"viewBox=\"0 0 24 24\"\n",
              "       width=\"24px\">\n",
              "    <path d=\"M0 0h24v24H0V0z\" fill=\"none\"/>\n",
              "    <path d=\"M18.56 5.44l.94 2.06.94-2.06 2.06-.94-2.06-.94-.94-2.06-.94 2.06-2.06.94zm-11 1L8.5 8.5l.94-2.06 2.06-.94-2.06-.94L8.5 2.5l-.94 2.06-2.06.94zm10 10l.94 2.06.94-2.06 2.06-.94-2.06-.94-.94-2.06-.94 2.06-2.06.94z\"/><path d=\"M17.41 7.96l-1.37-1.37c-.4-.4-.92-.59-1.43-.59-.52 0-1.04.2-1.43.59L10.3 9.45l-7.72 7.72c-.78.78-.78 2.05 0 2.83L4 21.41c.39.39.9.59 1.41.59.51 0 1.02-.2 1.41-.59l7.78-7.78 2.81-2.81c.8-.78.8-2.07 0-2.86zM5.41 20L4 18.59l7.72-7.72 1.47 1.35L5.41 20z\"/>\n",
              "  </svg>\n",
              "      </button>\n",
              "      \n",
              "  <style>\n",
              "    .colab-df-container {\n",
              "      display:flex;\n",
              "      flex-wrap:wrap;\n",
              "      gap: 12px;\n",
              "    }\n",
              "\n",
              "    .colab-df-convert {\n",
              "      background-color: #E8F0FE;\n",
              "      border: none;\n",
              "      border-radius: 50%;\n",
              "      cursor: pointer;\n",
              "      display: none;\n",
              "      fill: #1967D2;\n",
              "      height: 32px;\n",
              "      padding: 0 0 0 0;\n",
              "      width: 32px;\n",
              "    }\n",
              "\n",
              "    .colab-df-convert:hover {\n",
              "      background-color: #E2EBFA;\n",
              "      box-shadow: 0px 1px 2px rgba(60, 64, 67, 0.3), 0px 1px 3px 1px rgba(60, 64, 67, 0.15);\n",
              "      fill: #174EA6;\n",
              "    }\n",
              "\n",
              "    [theme=dark] .colab-df-convert {\n",
              "      background-color: #3B4455;\n",
              "      fill: #D2E3FC;\n",
              "    }\n",
              "\n",
              "    [theme=dark] .colab-df-convert:hover {\n",
              "      background-color: #434B5C;\n",
              "      box-shadow: 0px 1px 3px 1px rgba(0, 0, 0, 0.15);\n",
              "      filter: drop-shadow(0px 1px 2px rgba(0, 0, 0, 0.3));\n",
              "      fill: #FFFFFF;\n",
              "    }\n",
              "  </style>\n",
              "\n",
              "      <script>\n",
              "        const buttonEl =\n",
              "          document.querySelector('#df-d7f82a4f-26d6-428b-9d09-356e6d877e89 button.colab-df-convert');\n",
              "        buttonEl.style.display =\n",
              "          google.colab.kernel.accessAllowed ? 'block' : 'none';\n",
              "\n",
              "        async function convertToInteractive(key) {\n",
              "          const element = document.querySelector('#df-d7f82a4f-26d6-428b-9d09-356e6d877e89');\n",
              "          const dataTable =\n",
              "            await google.colab.kernel.invokeFunction('convertToInteractive',\n",
              "                                                     [key], {});\n",
              "          if (!dataTable) return;\n",
              "\n",
              "          const docLinkHtml = 'Like what you see? Visit the ' +\n",
              "            '<a target=\"_blank\" href=https://colab.research.google.com/notebooks/data_table.ipynb>data table notebook</a>'\n",
              "            + ' to learn more about interactive tables.';\n",
              "          element.innerHTML = '';\n",
              "          dataTable['output_type'] = 'display_data';\n",
              "          await google.colab.output.renderOutput(dataTable, element);\n",
              "          const docLink = document.createElement('div');\n",
              "          docLink.innerHTML = docLinkHtml;\n",
              "          element.appendChild(docLink);\n",
              "        }\n",
              "      </script>\n",
              "    </div>\n",
              "  </div>\n",
              "  "
            ]
          },
          "metadata": {},
          "execution_count": 10
        }
      ]
    },
    {
      "cell_type": "markdown",
      "metadata": {
        "id": "wF3Lh5BZtoOK"
      },
      "source": [
        "### **Export DataFrame to CSV**"
      ]
    },
    {
      "cell_type": "code",
      "execution_count": null,
      "metadata": {
        "id": "DV_Oc2UatTMN"
      },
      "outputs": [],
      "source": [
        "data.to_csv('en-fa_MT_dataset.csv', index=False)"
      ]
    },
    {
      "cell_type": "code",
      "source": [
        "from google.colab import drive\n",
        "drive.mount('/content/drive')\n",
        "\n",
        "!cp -r \"/content/en-fa_MT_dataset.csv\" \"/content/drive/MyDrive/en-fa_MT_dataset.csv\""
      ],
      "metadata": {
        "colab": {
          "base_uri": "https://localhost:8080/"
        },
        "id": "1lOpqHBn5gzv",
        "outputId": "0afdf1cb-60ce-4147-f580-22a8cff50b2a"
      },
      "execution_count": null,
      "outputs": [
        {
          "output_type": "stream",
          "name": "stdout",
          "text": [
            "Mounted at /content/drive\n"
          ]
        }
      ]
    },
    {
      "cell_type": "markdown",
      "metadata": {
        "id": "ue9B-p-YtspM"
      },
      "source": [
        "# **Read Dataset**"
      ]
    },
    {
      "cell_type": "code",
      "source": [
        "!gdown --id 101S8yZESRK5YL0a886tTz1hnCFzhaRxe"
      ],
      "metadata": {
        "colab": {
          "base_uri": "https://localhost:8080/"
        },
        "id": "cD8pKoE76EOC",
        "outputId": "69cdbe65-62e8-4ed0-ea1f-9639a029abee"
      },
      "execution_count": null,
      "outputs": [
        {
          "output_type": "stream",
          "name": "stdout",
          "text": [
            "/usr/local/lib/python3.7/dist-packages/gdown/cli.py:131: FutureWarning: Option `--id` was deprecated in version 4.3.1 and will be removed in 5.0. You don't need to pass it anymore to use a file ID.\n",
            "  category=FutureWarning,\n",
            "Downloading...\n",
            "From: https://drive.google.com/uc?id=101S8yZESRK5YL0a886tTz1hnCFzhaRxe\n",
            "To: /content/en-fa_MT_dataset.csv\n",
            "100% 55.4M/55.4M [00:00<00:00, 298MB/s]\n"
          ]
        }
      ]
    },
    {
      "cell_type": "code",
      "execution_count": null,
      "metadata": {
        "id": "ny2F7S1dtX5t"
      },
      "outputs": [],
      "source": [
        "data = pd.read_csv('en-fa_MT_dataset.csv')"
      ]
    },
    {
      "cell_type": "code",
      "execution_count": null,
      "metadata": {
        "colab": {
          "base_uri": "https://localhost:8080/",
          "height": 143
        },
        "id": "FSAMHB6u6vXQ",
        "outputId": "f1643545-931c-4335-edb7-a070bb95350f"
      },
      "outputs": [
        {
          "output_type": "execute_result",
          "data": {
            "text/plain": [
              "                     en                    fa\n",
              "0     raspy breathing .          صداي خر خر .\n",
              "1                 dad .                 پدر .\n",
              "2  maybe its the wind .  شايد صداي باد باشه ."
            ],
            "text/html": [
              "\n",
              "  <div id=\"df-2a342726-f00f-4a68-ba1c-49cd404232a2\">\n",
              "    <div class=\"colab-df-container\">\n",
              "      <div>\n",
              "<style scoped>\n",
              "    .dataframe tbody tr th:only-of-type {\n",
              "        vertical-align: middle;\n",
              "    }\n",
              "\n",
              "    .dataframe tbody tr th {\n",
              "        vertical-align: top;\n",
              "    }\n",
              "\n",
              "    .dataframe thead th {\n",
              "        text-align: right;\n",
              "    }\n",
              "</style>\n",
              "<table border=\"1\" class=\"dataframe\">\n",
              "  <thead>\n",
              "    <tr style=\"text-align: right;\">\n",
              "      <th></th>\n",
              "      <th>en</th>\n",
              "      <th>fa</th>\n",
              "    </tr>\n",
              "  </thead>\n",
              "  <tbody>\n",
              "    <tr>\n",
              "      <th>0</th>\n",
              "      <td>raspy breathing .</td>\n",
              "      <td>صداي خر خر .</td>\n",
              "    </tr>\n",
              "    <tr>\n",
              "      <th>1</th>\n",
              "      <td>dad .</td>\n",
              "      <td>پدر .</td>\n",
              "    </tr>\n",
              "    <tr>\n",
              "      <th>2</th>\n",
              "      <td>maybe its the wind .</td>\n",
              "      <td>شايد صداي باد باشه .</td>\n",
              "    </tr>\n",
              "  </tbody>\n",
              "</table>\n",
              "</div>\n",
              "      <button class=\"colab-df-convert\" onclick=\"convertToInteractive('df-2a342726-f00f-4a68-ba1c-49cd404232a2')\"\n",
              "              title=\"Convert this dataframe to an interactive table.\"\n",
              "              style=\"display:none;\">\n",
              "        \n",
              "  <svg xmlns=\"http://www.w3.org/2000/svg\" height=\"24px\"viewBox=\"0 0 24 24\"\n",
              "       width=\"24px\">\n",
              "    <path d=\"M0 0h24v24H0V0z\" fill=\"none\"/>\n",
              "    <path d=\"M18.56 5.44l.94 2.06.94-2.06 2.06-.94-2.06-.94-.94-2.06-.94 2.06-2.06.94zm-11 1L8.5 8.5l.94-2.06 2.06-.94-2.06-.94L8.5 2.5l-.94 2.06-2.06.94zm10 10l.94 2.06.94-2.06 2.06-.94-2.06-.94-.94-2.06-.94 2.06-2.06.94z\"/><path d=\"M17.41 7.96l-1.37-1.37c-.4-.4-.92-.59-1.43-.59-.52 0-1.04.2-1.43.59L10.3 9.45l-7.72 7.72c-.78.78-.78 2.05 0 2.83L4 21.41c.39.39.9.59 1.41.59.51 0 1.02-.2 1.41-.59l7.78-7.78 2.81-2.81c.8-.78.8-2.07 0-2.86zM5.41 20L4 18.59l7.72-7.72 1.47 1.35L5.41 20z\"/>\n",
              "  </svg>\n",
              "      </button>\n",
              "      \n",
              "  <style>\n",
              "    .colab-df-container {\n",
              "      display:flex;\n",
              "      flex-wrap:wrap;\n",
              "      gap: 12px;\n",
              "    }\n",
              "\n",
              "    .colab-df-convert {\n",
              "      background-color: #E8F0FE;\n",
              "      border: none;\n",
              "      border-radius: 50%;\n",
              "      cursor: pointer;\n",
              "      display: none;\n",
              "      fill: #1967D2;\n",
              "      height: 32px;\n",
              "      padding: 0 0 0 0;\n",
              "      width: 32px;\n",
              "    }\n",
              "\n",
              "    .colab-df-convert:hover {\n",
              "      background-color: #E2EBFA;\n",
              "      box-shadow: 0px 1px 2px rgba(60, 64, 67, 0.3), 0px 1px 3px 1px rgba(60, 64, 67, 0.15);\n",
              "      fill: #174EA6;\n",
              "    }\n",
              "\n",
              "    [theme=dark] .colab-df-convert {\n",
              "      background-color: #3B4455;\n",
              "      fill: #D2E3FC;\n",
              "    }\n",
              "\n",
              "    [theme=dark] .colab-df-convert:hover {\n",
              "      background-color: #434B5C;\n",
              "      box-shadow: 0px 1px 3px 1px rgba(0, 0, 0, 0.15);\n",
              "      filter: drop-shadow(0px 1px 2px rgba(0, 0, 0, 0.3));\n",
              "      fill: #FFFFFF;\n",
              "    }\n",
              "  </style>\n",
              "\n",
              "      <script>\n",
              "        const buttonEl =\n",
              "          document.querySelector('#df-2a342726-f00f-4a68-ba1c-49cd404232a2 button.colab-df-convert');\n",
              "        buttonEl.style.display =\n",
              "          google.colab.kernel.accessAllowed ? 'block' : 'none';\n",
              "\n",
              "        async function convertToInteractive(key) {\n",
              "          const element = document.querySelector('#df-2a342726-f00f-4a68-ba1c-49cd404232a2');\n",
              "          const dataTable =\n",
              "            await google.colab.kernel.invokeFunction('convertToInteractive',\n",
              "                                                     [key], {});\n",
              "          if (!dataTable) return;\n",
              "\n",
              "          const docLinkHtml = 'Like what you see? Visit the ' +\n",
              "            '<a target=\"_blank\" href=https://colab.research.google.com/notebooks/data_table.ipynb>data table notebook</a>'\n",
              "            + ' to learn more about interactive tables.';\n",
              "          element.innerHTML = '';\n",
              "          dataTable['output_type'] = 'display_data';\n",
              "          await google.colab.output.renderOutput(dataTable, element);\n",
              "          const docLink = document.createElement('div');\n",
              "          docLink.innerHTML = docLinkHtml;\n",
              "          element.appendChild(docLink);\n",
              "        }\n",
              "      </script>\n",
              "    </div>\n",
              "  </div>\n",
              "  "
            ]
          },
          "metadata": {},
          "execution_count": 6
        }
      ],
      "source": [
        "data.head(3)"
      ]
    },
    {
      "cell_type": "code",
      "execution_count": null,
      "metadata": {
        "colab": {
          "base_uri": "https://localhost:8080/"
        },
        "id": "L6b4nVw9V27v",
        "outputId": "757d26e9-468e-4afd-8bb0-78daaa4eea31"
      },
      "outputs": [
        {
          "output_type": "execute_result",
          "data": {
            "text/plain": [
              "612086"
            ]
          },
          "metadata": {},
          "execution_count": 7
        }
      ],
      "source": [
        "len(data)"
      ]
    },
    {
      "cell_type": "code",
      "execution_count": null,
      "metadata": {
        "id": "VrUBKueG8qsO"
      },
      "outputs": [],
      "source": [
        "data['en_size'] = data['en'].str.count(' ')\n",
        "data['fa_size'] = data['fa'].str.count(' ')"
      ]
    },
    {
      "cell_type": "code",
      "execution_count": null,
      "metadata": {
        "colab": {
          "base_uri": "https://localhost:8080/",
          "height": 206
        },
        "id": "peSpf3B0J0gE",
        "outputId": "0f7a371c-b6cc-4c27-c41d-46451689e427"
      },
      "outputs": [
        {
          "output_type": "execute_result",
          "data": {
            "text/plain": [
              "                     en                                         fa  en_size  \\\n",
              "0     raspy breathing .                               صداي خر خر .        2   \n",
              "1                 dad .                                      پدر .        1   \n",
              "2  maybe its the wind .                       شايد صداي باد باشه .        4   \n",
              "3                  no .                                       نه .        1   \n",
              "4    stop please stop .  دست نگه داريد خواهش ميکنم دست نگه داريد .        3   \n",
              "\n",
              "   fa_size  \n",
              "0        3  \n",
              "1        1  \n",
              "2        4  \n",
              "3        1  \n",
              "4        8  "
            ],
            "text/html": [
              "\n",
              "  <div id=\"df-9d312561-ab7b-40a7-9a32-059edac98c07\">\n",
              "    <div class=\"colab-df-container\">\n",
              "      <div>\n",
              "<style scoped>\n",
              "    .dataframe tbody tr th:only-of-type {\n",
              "        vertical-align: middle;\n",
              "    }\n",
              "\n",
              "    .dataframe tbody tr th {\n",
              "        vertical-align: top;\n",
              "    }\n",
              "\n",
              "    .dataframe thead th {\n",
              "        text-align: right;\n",
              "    }\n",
              "</style>\n",
              "<table border=\"1\" class=\"dataframe\">\n",
              "  <thead>\n",
              "    <tr style=\"text-align: right;\">\n",
              "      <th></th>\n",
              "      <th>en</th>\n",
              "      <th>fa</th>\n",
              "      <th>en_size</th>\n",
              "      <th>fa_size</th>\n",
              "    </tr>\n",
              "  </thead>\n",
              "  <tbody>\n",
              "    <tr>\n",
              "      <th>0</th>\n",
              "      <td>raspy breathing .</td>\n",
              "      <td>صداي خر خر .</td>\n",
              "      <td>2</td>\n",
              "      <td>3</td>\n",
              "    </tr>\n",
              "    <tr>\n",
              "      <th>1</th>\n",
              "      <td>dad .</td>\n",
              "      <td>پدر .</td>\n",
              "      <td>1</td>\n",
              "      <td>1</td>\n",
              "    </tr>\n",
              "    <tr>\n",
              "      <th>2</th>\n",
              "      <td>maybe its the wind .</td>\n",
              "      <td>شايد صداي باد باشه .</td>\n",
              "      <td>4</td>\n",
              "      <td>4</td>\n",
              "    </tr>\n",
              "    <tr>\n",
              "      <th>3</th>\n",
              "      <td>no .</td>\n",
              "      <td>نه .</td>\n",
              "      <td>1</td>\n",
              "      <td>1</td>\n",
              "    </tr>\n",
              "    <tr>\n",
              "      <th>4</th>\n",
              "      <td>stop please stop .</td>\n",
              "      <td>دست نگه داريد خواهش ميکنم دست نگه داريد .</td>\n",
              "      <td>3</td>\n",
              "      <td>8</td>\n",
              "    </tr>\n",
              "  </tbody>\n",
              "</table>\n",
              "</div>\n",
              "      <button class=\"colab-df-convert\" onclick=\"convertToInteractive('df-9d312561-ab7b-40a7-9a32-059edac98c07')\"\n",
              "              title=\"Convert this dataframe to an interactive table.\"\n",
              "              style=\"display:none;\">\n",
              "        \n",
              "  <svg xmlns=\"http://www.w3.org/2000/svg\" height=\"24px\"viewBox=\"0 0 24 24\"\n",
              "       width=\"24px\">\n",
              "    <path d=\"M0 0h24v24H0V0z\" fill=\"none\"/>\n",
              "    <path d=\"M18.56 5.44l.94 2.06.94-2.06 2.06-.94-2.06-.94-.94-2.06-.94 2.06-2.06.94zm-11 1L8.5 8.5l.94-2.06 2.06-.94-2.06-.94L8.5 2.5l-.94 2.06-2.06.94zm10 10l.94 2.06.94-2.06 2.06-.94-2.06-.94-.94-2.06-.94 2.06-2.06.94z\"/><path d=\"M17.41 7.96l-1.37-1.37c-.4-.4-.92-.59-1.43-.59-.52 0-1.04.2-1.43.59L10.3 9.45l-7.72 7.72c-.78.78-.78 2.05 0 2.83L4 21.41c.39.39.9.59 1.41.59.51 0 1.02-.2 1.41-.59l7.78-7.78 2.81-2.81c.8-.78.8-2.07 0-2.86zM5.41 20L4 18.59l7.72-7.72 1.47 1.35L5.41 20z\"/>\n",
              "  </svg>\n",
              "      </button>\n",
              "      \n",
              "  <style>\n",
              "    .colab-df-container {\n",
              "      display:flex;\n",
              "      flex-wrap:wrap;\n",
              "      gap: 12px;\n",
              "    }\n",
              "\n",
              "    .colab-df-convert {\n",
              "      background-color: #E8F0FE;\n",
              "      border: none;\n",
              "      border-radius: 50%;\n",
              "      cursor: pointer;\n",
              "      display: none;\n",
              "      fill: #1967D2;\n",
              "      height: 32px;\n",
              "      padding: 0 0 0 0;\n",
              "      width: 32px;\n",
              "    }\n",
              "\n",
              "    .colab-df-convert:hover {\n",
              "      background-color: #E2EBFA;\n",
              "      box-shadow: 0px 1px 2px rgba(60, 64, 67, 0.3), 0px 1px 3px 1px rgba(60, 64, 67, 0.15);\n",
              "      fill: #174EA6;\n",
              "    }\n",
              "\n",
              "    [theme=dark] .colab-df-convert {\n",
              "      background-color: #3B4455;\n",
              "      fill: #D2E3FC;\n",
              "    }\n",
              "\n",
              "    [theme=dark] .colab-df-convert:hover {\n",
              "      background-color: #434B5C;\n",
              "      box-shadow: 0px 1px 3px 1px rgba(0, 0, 0, 0.15);\n",
              "      filter: drop-shadow(0px 1px 2px rgba(0, 0, 0, 0.3));\n",
              "      fill: #FFFFFF;\n",
              "    }\n",
              "  </style>\n",
              "\n",
              "      <script>\n",
              "        const buttonEl =\n",
              "          document.querySelector('#df-9d312561-ab7b-40a7-9a32-059edac98c07 button.colab-df-convert');\n",
              "        buttonEl.style.display =\n",
              "          google.colab.kernel.accessAllowed ? 'block' : 'none';\n",
              "\n",
              "        async function convertToInteractive(key) {\n",
              "          const element = document.querySelector('#df-9d312561-ab7b-40a7-9a32-059edac98c07');\n",
              "          const dataTable =\n",
              "            await google.colab.kernel.invokeFunction('convertToInteractive',\n",
              "                                                     [key], {});\n",
              "          if (!dataTable) return;\n",
              "\n",
              "          const docLinkHtml = 'Like what you see? Visit the ' +\n",
              "            '<a target=\"_blank\" href=https://colab.research.google.com/notebooks/data_table.ipynb>data table notebook</a>'\n",
              "            + ' to learn more about interactive tables.';\n",
              "          element.innerHTML = '';\n",
              "          dataTable['output_type'] = 'display_data';\n",
              "          await google.colab.output.renderOutput(dataTable, element);\n",
              "          const docLink = document.createElement('div');\n",
              "          docLink.innerHTML = docLinkHtml;\n",
              "          element.appendChild(docLink);\n",
              "        }\n",
              "      </script>\n",
              "    </div>\n",
              "  </div>\n",
              "  "
            ]
          },
          "metadata": {},
          "execution_count": 9
        }
      ],
      "source": [
        "data.head()"
      ]
    },
    {
      "cell_type": "code",
      "execution_count": null,
      "metadata": {
        "id": "chvRi3LHNQ4r"
      },
      "outputs": [],
      "source": [
        "data['en_no_punctuation'] = data['en'].str.replace('[^\\w\\s]','')\n",
        "data['en_no_punctuation'] = data[\"en_no_punctuation\"].str.lower() "
      ]
    },
    {
      "cell_type": "code",
      "execution_count": null,
      "metadata": {
        "id": "Pkso4iAQQBC7"
      },
      "outputs": [],
      "source": [
        "data['fa_no_punctuation'] = '<start> ' + data['fa'].str.replace('[^\\w\\s]','') + ' <end>'"
      ]
    },
    {
      "cell_type": "code",
      "source": [
        "data.head()"
      ],
      "metadata": {
        "colab": {
          "base_uri": "https://localhost:8080/",
          "height": 206
        },
        "id": "V3UIfeBbjsz4",
        "outputId": "9ca4626e-5371-4c55-d319-67b21fd10452"
      },
      "execution_count": null,
      "outputs": [
        {
          "output_type": "execute_result",
          "data": {
            "text/plain": [
              "                     en                                         fa  en_size  \\\n",
              "0     raspy breathing .                               صداي خر خر .        2   \n",
              "1                 dad .                                      پدر .        1   \n",
              "2  maybe its the wind .                       شايد صداي باد باشه .        4   \n",
              "3                  no .                                       نه .        1   \n",
              "4    stop please stop .  دست نگه داريد خواهش ميکنم دست نگه داريد .        3   \n",
              "\n",
              "   fa_size    en_no_punctuation  \\\n",
              "0        3     raspy breathing    \n",
              "1        1                 dad    \n",
              "2        4  maybe its the wind    \n",
              "3        1                  no    \n",
              "4        8    stop please stop    \n",
              "\n",
              "                                   fa_no_punctuation  \n",
              "0                          <start> صداي خر خر  <end>  \n",
              "1                                 <start> پدر  <end>  \n",
              "2                  <start> شايد صداي باد باشه  <end>  \n",
              "3                                  <start> نه  <end>  \n",
              "4  <start> دست نگه داريد خواهش ميکنم دست نگه داري...  "
            ],
            "text/html": [
              "\n",
              "  <div id=\"df-29bb2438-8b1d-445b-a66f-3bcd0e5cc6fb\">\n",
              "    <div class=\"colab-df-container\">\n",
              "      <div>\n",
              "<style scoped>\n",
              "    .dataframe tbody tr th:only-of-type {\n",
              "        vertical-align: middle;\n",
              "    }\n",
              "\n",
              "    .dataframe tbody tr th {\n",
              "        vertical-align: top;\n",
              "    }\n",
              "\n",
              "    .dataframe thead th {\n",
              "        text-align: right;\n",
              "    }\n",
              "</style>\n",
              "<table border=\"1\" class=\"dataframe\">\n",
              "  <thead>\n",
              "    <tr style=\"text-align: right;\">\n",
              "      <th></th>\n",
              "      <th>en</th>\n",
              "      <th>fa</th>\n",
              "      <th>en_size</th>\n",
              "      <th>fa_size</th>\n",
              "      <th>en_no_punctuation</th>\n",
              "      <th>fa_no_punctuation</th>\n",
              "    </tr>\n",
              "  </thead>\n",
              "  <tbody>\n",
              "    <tr>\n",
              "      <th>0</th>\n",
              "      <td>raspy breathing .</td>\n",
              "      <td>صداي خر خر .</td>\n",
              "      <td>2</td>\n",
              "      <td>3</td>\n",
              "      <td>raspy breathing</td>\n",
              "      <td>&lt;start&gt; صداي خر خر  &lt;end&gt;</td>\n",
              "    </tr>\n",
              "    <tr>\n",
              "      <th>1</th>\n",
              "      <td>dad .</td>\n",
              "      <td>پدر .</td>\n",
              "      <td>1</td>\n",
              "      <td>1</td>\n",
              "      <td>dad</td>\n",
              "      <td>&lt;start&gt; پدر  &lt;end&gt;</td>\n",
              "    </tr>\n",
              "    <tr>\n",
              "      <th>2</th>\n",
              "      <td>maybe its the wind .</td>\n",
              "      <td>شايد صداي باد باشه .</td>\n",
              "      <td>4</td>\n",
              "      <td>4</td>\n",
              "      <td>maybe its the wind</td>\n",
              "      <td>&lt;start&gt; شايد صداي باد باشه  &lt;end&gt;</td>\n",
              "    </tr>\n",
              "    <tr>\n",
              "      <th>3</th>\n",
              "      <td>no .</td>\n",
              "      <td>نه .</td>\n",
              "      <td>1</td>\n",
              "      <td>1</td>\n",
              "      <td>no</td>\n",
              "      <td>&lt;start&gt; نه  &lt;end&gt;</td>\n",
              "    </tr>\n",
              "    <tr>\n",
              "      <th>4</th>\n",
              "      <td>stop please stop .</td>\n",
              "      <td>دست نگه داريد خواهش ميکنم دست نگه داريد .</td>\n",
              "      <td>3</td>\n",
              "      <td>8</td>\n",
              "      <td>stop please stop</td>\n",
              "      <td>&lt;start&gt; دست نگه داريد خواهش ميکنم دست نگه داري...</td>\n",
              "    </tr>\n",
              "  </tbody>\n",
              "</table>\n",
              "</div>\n",
              "      <button class=\"colab-df-convert\" onclick=\"convertToInteractive('df-29bb2438-8b1d-445b-a66f-3bcd0e5cc6fb')\"\n",
              "              title=\"Convert this dataframe to an interactive table.\"\n",
              "              style=\"display:none;\">\n",
              "        \n",
              "  <svg xmlns=\"http://www.w3.org/2000/svg\" height=\"24px\"viewBox=\"0 0 24 24\"\n",
              "       width=\"24px\">\n",
              "    <path d=\"M0 0h24v24H0V0z\" fill=\"none\"/>\n",
              "    <path d=\"M18.56 5.44l.94 2.06.94-2.06 2.06-.94-2.06-.94-.94-2.06-.94 2.06-2.06.94zm-11 1L8.5 8.5l.94-2.06 2.06-.94-2.06-.94L8.5 2.5l-.94 2.06-2.06.94zm10 10l.94 2.06.94-2.06 2.06-.94-2.06-.94-.94-2.06-.94 2.06-2.06.94z\"/><path d=\"M17.41 7.96l-1.37-1.37c-.4-.4-.92-.59-1.43-.59-.52 0-1.04.2-1.43.59L10.3 9.45l-7.72 7.72c-.78.78-.78 2.05 0 2.83L4 21.41c.39.39.9.59 1.41.59.51 0 1.02-.2 1.41-.59l7.78-7.78 2.81-2.81c.8-.78.8-2.07 0-2.86zM5.41 20L4 18.59l7.72-7.72 1.47 1.35L5.41 20z\"/>\n",
              "  </svg>\n",
              "      </button>\n",
              "      \n",
              "  <style>\n",
              "    .colab-df-container {\n",
              "      display:flex;\n",
              "      flex-wrap:wrap;\n",
              "      gap: 12px;\n",
              "    }\n",
              "\n",
              "    .colab-df-convert {\n",
              "      background-color: #E8F0FE;\n",
              "      border: none;\n",
              "      border-radius: 50%;\n",
              "      cursor: pointer;\n",
              "      display: none;\n",
              "      fill: #1967D2;\n",
              "      height: 32px;\n",
              "      padding: 0 0 0 0;\n",
              "      width: 32px;\n",
              "    }\n",
              "\n",
              "    .colab-df-convert:hover {\n",
              "      background-color: #E2EBFA;\n",
              "      box-shadow: 0px 1px 2px rgba(60, 64, 67, 0.3), 0px 1px 3px 1px rgba(60, 64, 67, 0.15);\n",
              "      fill: #174EA6;\n",
              "    }\n",
              "\n",
              "    [theme=dark] .colab-df-convert {\n",
              "      background-color: #3B4455;\n",
              "      fill: #D2E3FC;\n",
              "    }\n",
              "\n",
              "    [theme=dark] .colab-df-convert:hover {\n",
              "      background-color: #434B5C;\n",
              "      box-shadow: 0px 1px 3px 1px rgba(0, 0, 0, 0.15);\n",
              "      filter: drop-shadow(0px 1px 2px rgba(0, 0, 0, 0.3));\n",
              "      fill: #FFFFFF;\n",
              "    }\n",
              "  </style>\n",
              "\n",
              "      <script>\n",
              "        const buttonEl =\n",
              "          document.querySelector('#df-29bb2438-8b1d-445b-a66f-3bcd0e5cc6fb button.colab-df-convert');\n",
              "        buttonEl.style.display =\n",
              "          google.colab.kernel.accessAllowed ? 'block' : 'none';\n",
              "\n",
              "        async function convertToInteractive(key) {\n",
              "          const element = document.querySelector('#df-29bb2438-8b1d-445b-a66f-3bcd0e5cc6fb');\n",
              "          const dataTable =\n",
              "            await google.colab.kernel.invokeFunction('convertToInteractive',\n",
              "                                                     [key], {});\n",
              "          if (!dataTable) return;\n",
              "\n",
              "          const docLinkHtml = 'Like what you see? Visit the ' +\n",
              "            '<a target=\"_blank\" href=https://colab.research.google.com/notebooks/data_table.ipynb>data table notebook</a>'\n",
              "            + ' to learn more about interactive tables.';\n",
              "          element.innerHTML = '';\n",
              "          dataTable['output_type'] = 'display_data';\n",
              "          await google.colab.output.renderOutput(dataTable, element);\n",
              "          const docLink = document.createElement('div');\n",
              "          docLink.innerHTML = docLinkHtml;\n",
              "          element.appendChild(docLink);\n",
              "        }\n",
              "      </script>\n",
              "    </div>\n",
              "  </div>\n",
              "  "
            ]
          },
          "metadata": {},
          "execution_count": 12
        }
      ]
    },
    {
      "cell_type": "code",
      "source": [
        "en_data = data['en_no_punctuation'].values\n",
        "fa_data = data['fa_no_punctuation'].values"
      ],
      "metadata": {
        "id": "80W4XEeDjMPq"
      },
      "execution_count": null,
      "outputs": []
    },
    {
      "cell_type": "code",
      "source": [
        "en_data = [re.sub('\\s+', ' ', str(sentence)) for sentence in en_data]\n",
        "fa_data = [re.sub('\\s+', ' ', str(sentence)) for sentence in fa_data]"
      ],
      "metadata": {
        "id": "pAdaZ19bj6i6"
      },
      "execution_count": null,
      "outputs": []
    },
    {
      "cell_type": "code",
      "source": [
        "text_pairs = []\n",
        "for i in range(len(en_data)):\n",
        "  en = en_data[i]\n",
        "  fa = fa_data[i]\n",
        "  text_pairs.append((en, fa))"
      ],
      "metadata": {
        "id": "2IwHafMFiNwf"
      },
      "execution_count": null,
      "outputs": []
    },
    {
      "cell_type": "code",
      "source": [
        "text_pairs[0:5]"
      ],
      "metadata": {
        "colab": {
          "base_uri": "https://localhost:8080/"
        },
        "id": "43b1KljSix0z",
        "outputId": "21859fd7-161b-4683-b99c-952119cfc34e"
      },
      "execution_count": null,
      "outputs": [
        {
          "output_type": "execute_result",
          "data": {
            "text/plain": [
              "[('raspy breathing ', '<start> صداي خر خر <end>'),\n",
              " ('dad ', '<start> پدر <end>'),\n",
              " ('maybe its the wind ', '<start> شايد صداي باد باشه <end>'),\n",
              " ('no ', '<start> نه <end>'),\n",
              " ('stop please stop ',\n",
              "  '<start> دست نگه داريد خواهش ميکنم دست نگه داريد <end>')]"
            ]
          },
          "metadata": {},
          "execution_count": 16
        }
      ]
    },
    {
      "cell_type": "code",
      "source": [
        "len(text_pairs)"
      ],
      "metadata": {
        "colab": {
          "base_uri": "https://localhost:8080/"
        },
        "id": "kIfav9m6VNyn",
        "outputId": "95119142-488d-444d-d35b-95effba815f1"
      },
      "execution_count": null,
      "outputs": [
        {
          "output_type": "execute_result",
          "data": {
            "text/plain": [
              "612086"
            ]
          },
          "metadata": {},
          "execution_count": 17
        }
      ]
    },
    {
      "cell_type": "code",
      "source": [
        "random.shuffle(text_pairs)\n",
        "num_val_samples = int(0.15 * len(text_pairs))\n",
        "num_train_samples = len(text_pairs) - 2 * num_val_samples\n",
        "train_pairs = text_pairs[:num_train_samples]\n",
        "val_pairs = text_pairs[num_train_samples : num_train_samples + num_val_samples]\n",
        "test_pairs = text_pairs[num_train_samples + num_val_samples :]\n",
        "\n",
        "print(f\"{len(text_pairs)} total pairs\")\n",
        "print(f\"{len(train_pairs)} training pairs\")\n",
        "print(f\"{len(val_pairs)} validation pairs\")\n",
        "print(f\"{len(test_pairs)} test pairs\")"
      ],
      "metadata": {
        "colab": {
          "base_uri": "https://localhost:8080/"
        },
        "id": "ur5fdpmmkQZU",
        "outputId": "11c43a2b-48ad-47a3-a8a9-f2bd22c8950a"
      },
      "execution_count": null,
      "outputs": [
        {
          "output_type": "stream",
          "name": "stdout",
          "text": [
            "612086 total pairs\n",
            "428462 training pairs\n",
            "91812 validation pairs\n",
            "91812 test pairs\n"
          ]
        }
      ]
    },
    {
      "cell_type": "code",
      "source": [
        "strip_chars = string.punctuation + \"¿\"\n",
        "strip_chars = strip_chars.replace(\"[\", \"\")\n",
        "strip_chars = strip_chars.replace(\"]\", \"\")\n",
        "\n",
        "vocab_size = 15000\n",
        "sequence_length = 20\n",
        "batch_size = 512\n",
        "\n",
        "\n",
        "def custom_standardization(input_string):\n",
        "    lowercase = tf.strings.lower(input_string)\n",
        "    return tf.strings.regex_replace(lowercase, \"[%s]\" % re.escape(strip_chars), \"\")\n",
        "\n",
        "\n",
        "en_vectorization = TextVectorization(\n",
        "    max_tokens=vocab_size,\n",
        "    output_mode=\"int\",\n",
        "    output_sequence_length=sequence_length,\n",
        ")\n",
        "fa_vectorization = TextVectorization(\n",
        "    max_tokens=vocab_size,\n",
        "    output_mode=\"int\",\n",
        "    output_sequence_length=sequence_length + 1,\n",
        "    standardize=custom_standardization,\n",
        ")\n",
        "train_eng_texts = [pair[0] for pair in train_pairs]\n",
        "train_spa_texts = [pair[1] for pair in train_pairs]\n",
        "en_vectorization.adapt(train_eng_texts)\n",
        "fa_vectorization.adapt(train_spa_texts)"
      ],
      "metadata": {
        "id": "UpfWdyxClG55"
      },
      "execution_count": null,
      "outputs": []
    },
    {
      "cell_type": "code",
      "source": [
        "def format_dataset(en, fa):\n",
        "    en = en_vectorization(en)\n",
        "    fa = fa_vectorization(fa)\n",
        "    return (\n",
        "        {\n",
        "            \"encoder_inputs\": en,\n",
        "            \"decoder_inputs\": fa[:, :-1],\n",
        "        },\n",
        "        fa[:, 1:],\n",
        "    )"
      ],
      "metadata": {
        "id": "CZSp5V80XwPX"
      },
      "execution_count": null,
      "outputs": []
    },
    {
      "cell_type": "code",
      "source": [
        "def make_dataset(pairs):\n",
        "    en_texts, fa_texts = zip(*pairs)\n",
        "    en_texts = list(en_texts)\n",
        "    fa_texts = list(fa_texts)\n",
        "    dataset = tf.data.Dataset.from_tensor_slices((en_texts, fa_texts))\n",
        "    dataset = dataset.batch(batch_size)\n",
        "    dataset = dataset.map(format_dataset)\n",
        "    return dataset.shuffle(2048).prefetch(16).cache()"
      ],
      "metadata": {
        "id": "e66oVk7jlzpq"
      },
      "execution_count": null,
      "outputs": []
    },
    {
      "cell_type": "code",
      "source": [
        "train_ds = make_dataset(train_pairs)\n",
        "val_ds = make_dataset(val_pairs)"
      ],
      "metadata": {
        "id": "Ay1wdfuwX5DY"
      },
      "execution_count": null,
      "outputs": []
    },
    {
      "cell_type": "code",
      "source": [
        "train_ds"
      ],
      "metadata": {
        "colab": {
          "base_uri": "https://localhost:8080/"
        },
        "id": "TiZcHIxFYAb_",
        "outputId": "a2f87191-da88-494b-ff96-69965676a217"
      },
      "execution_count": null,
      "outputs": [
        {
          "output_type": "execute_result",
          "data": {
            "text/plain": [
              "<CacheDataset element_spec=({'encoder_inputs': TensorSpec(shape=(None, 20), dtype=tf.int64, name=None), 'decoder_inputs': TensorSpec(shape=(None, 20), dtype=tf.int64, name=None)}, TensorSpec(shape=(None, 20), dtype=tf.int64, name=None))>"
            ]
          },
          "metadata": {},
          "execution_count": 23
        }
      ]
    },
    {
      "cell_type": "code",
      "source": [
        "for inputs, targets in train_ds.take(1):\n",
        "    print(f'inputs[\"encoder_inputs\"].shape: {inputs[\"encoder_inputs\"].shape}')\n",
        "    print(f'inputs[\"decoder_inputs\"].shape: {inputs[\"decoder_inputs\"].shape}')\n",
        "    print(f\"targets.shape: {targets.shape}\")"
      ],
      "metadata": {
        "colab": {
          "base_uri": "https://localhost:8080/"
        },
        "id": "KeWICej4mTkC",
        "outputId": "2efb5503-826c-4bba-bc97-2cd61d2c6a26"
      },
      "execution_count": null,
      "outputs": [
        {
          "output_type": "stream",
          "name": "stdout",
          "text": [
            "inputs[\"encoder_inputs\"].shape: (512, 20)\n",
            "inputs[\"decoder_inputs\"].shape: (512, 20)\n",
            "targets.shape: (512, 20)\n"
          ]
        }
      ]
    },
    {
      "cell_type": "code",
      "source": [
        "class TransformerEncoder(layers.Layer):\n",
        "    def __init__(self, embed_dim, dense_dim, num_heads, **kwargs):\n",
        "        super(TransformerEncoder, self).__init__(**kwargs)\n",
        "        self.embed_dim = embed_dim\n",
        "        self.dense_dim = dense_dim\n",
        "        self.num_heads = num_heads\n",
        "        self.attention = layers.MultiHeadAttention(\n",
        "            num_heads=num_heads, key_dim=embed_dim\n",
        "        )\n",
        "        self.dense_proj = keras.Sequential(\n",
        "            [\n",
        "                layers.Dense(dense_dim, activation=\"relu\"),\n",
        "                layers.Dense(embed_dim),\n",
        "            ]\n",
        "        )\n",
        "        self.layernorm_1 = layers.LayerNormalization()\n",
        "        self.layernorm_2 = layers.LayerNormalization()\n",
        "        self.supports_masking = True\n",
        "\n",
        "    def call(self, inputs, mask=None):\n",
        "        if mask is not None:\n",
        "            padding_mask = tf.cast(mask[:, tf.newaxis, tf.newaxis, :], dtype=\"int32\")\n",
        "        attention_output = self.attention(\n",
        "            query=inputs, value=inputs, key=inputs, attention_mask=padding_mask\n",
        "        )\n",
        "        proj_input = self.layernorm_1(inputs + attention_output)\n",
        "        proj_output = self.dense_proj(proj_input)\n",
        "        return self.layernorm_2(proj_input + proj_output)"
      ],
      "metadata": {
        "id": "AwVLxFHgdwLL"
      },
      "execution_count": null,
      "outputs": []
    },
    {
      "cell_type": "code",
      "source": [
        "class PositionalEmbedding(layers.Layer):\n",
        "    def __init__(self, sequence_length, vocab_size, embed_dim, **kwargs):\n",
        "        super(PositionalEmbedding, self).__init__(**kwargs)\n",
        "        self.token_embeddings = layers.Embedding(\n",
        "            input_dim=vocab_size, output_dim=embed_dim\n",
        "        )\n",
        "        self.position_embeddings = layers.Embedding(\n",
        "            input_dim=sequence_length, output_dim=embed_dim\n",
        "        )\n",
        "        self.sequence_length = sequence_length\n",
        "        self.vocab_size = vocab_size\n",
        "        self.embed_dim = embed_dim\n",
        "\n",
        "    def call(self, inputs):\n",
        "        length = tf.shape(inputs)[-1]\n",
        "        positions = tf.range(start=0, limit=length, delta=1)\n",
        "        embedded_tokens = self.token_embeddings(inputs)\n",
        "        embedded_positions = self.position_embeddings(positions)\n",
        "        return embedded_tokens + embedded_positions\n",
        "\n",
        "    def compute_mask(self, inputs, mask=None):\n",
        "        return tf.math.not_equal(inputs, 0)\n"
      ],
      "metadata": {
        "id": "fuJSEeEUdzrb"
      },
      "execution_count": null,
      "outputs": []
    },
    {
      "cell_type": "code",
      "source": [
        "class TransformerDecoder(layers.Layer):\n",
        "    def __init__(self, embed_dim, latent_dim, num_heads, **kwargs):\n",
        "        super(TransformerDecoder, self).__init__(**kwargs)\n",
        "        self.embed_dim = embed_dim\n",
        "        self.latent_dim = latent_dim\n",
        "        self.num_heads = num_heads\n",
        "        self.attention_1 = layers.MultiHeadAttention(\n",
        "            num_heads=num_heads, key_dim=embed_dim\n",
        "        )\n",
        "        self.attention_2 = layers.MultiHeadAttention(\n",
        "            num_heads=num_heads, key_dim=embed_dim\n",
        "        )\n",
        "        self.dense_proj = keras.Sequential(\n",
        "            [\n",
        "                layers.Dense(latent_dim, activation=\"relu\"),\n",
        "                layers.Dense(embed_dim),\n",
        "            ]\n",
        "        )\n",
        "        self.layernorm_1 = layers.LayerNormalization()\n",
        "        self.layernorm_2 = layers.LayerNormalization()\n",
        "        self.layernorm_3 = layers.LayerNormalization()\n",
        "        self.supports_masking = True\n",
        "\n",
        "    def call(self, inputs, encoder_outputs, mask=None):\n",
        "        causal_mask = self.get_causal_attention_mask(inputs)\n",
        "        if mask is not None:\n",
        "            padding_mask = tf.cast(mask[:, tf.newaxis, :], dtype=\"int32\")\n",
        "            padding_mask = tf.minimum(padding_mask, causal_mask)\n",
        "\n",
        "        attention_output_1 = self.attention_1(\n",
        "            query=inputs, value=inputs, key=inputs, attention_mask=causal_mask\n",
        "        )\n",
        "        out_1 = self.layernorm_1(inputs + attention_output_1)\n",
        "\n",
        "        attention_output_2 = self.attention_2(\n",
        "            query=out_1,\n",
        "            value=encoder_outputs,\n",
        "            key=encoder_outputs,\n",
        "            attention_mask=padding_mask,\n",
        "        )\n",
        "        out_2 = self.layernorm_2(out_1 + attention_output_2)\n",
        "\n",
        "        proj_output = self.dense_proj(out_2)\n",
        "        return self.layernorm_3(out_2 + proj_output)\n",
        "\n",
        "    def get_causal_attention_mask(self, inputs):\n",
        "        input_shape = tf.shape(inputs)\n",
        "        batch_size, sequence_length = input_shape[0], input_shape[1]\n",
        "        i = tf.range(sequence_length)[:, tf.newaxis]\n",
        "        j = tf.range(sequence_length)\n",
        "        mask = tf.cast(i >= j, dtype=\"int32\")\n",
        "        mask = tf.reshape(mask, (1, input_shape[1], input_shape[1]))\n",
        "        mult = tf.concat(\n",
        "            [tf.expand_dims(batch_size, -1), tf.constant([1, 1], dtype=tf.int32)],\n",
        "            axis=0,\n",
        "        )\n",
        "        return tf.tile(mask, mult)"
      ],
      "metadata": {
        "id": "5aG8NpgJmzJU"
      },
      "execution_count": null,
      "outputs": []
    },
    {
      "cell_type": "code",
      "source": [
        "embed_dim = 256\n",
        "latent_dim = 2048\n",
        "num_heads = 8\n",
        "\n",
        "encoder_inputs = keras.Input(shape=(None,), dtype=\"int64\", name=\"encoder_inputs\")\n",
        "x = PositionalEmbedding(sequence_length, vocab_size, embed_dim)(encoder_inputs)\n",
        "encoder_outputs = TransformerEncoder(embed_dim, latent_dim, num_heads)(x)\n",
        "encoder = keras.Model(encoder_inputs, encoder_outputs)\n",
        "\n",
        "decoder_inputs = keras.Input(shape=(None,), dtype=\"int64\", name=\"decoder_inputs\")\n",
        "encoded_seq_inputs = keras.Input(shape=(None, embed_dim), name=\"decoder_state_inputs\")\n",
        "x = PositionalEmbedding(sequence_length, vocab_size, embed_dim)(decoder_inputs)\n",
        "x = TransformerDecoder(embed_dim, latent_dim, num_heads)(x, encoded_seq_inputs)\n",
        "x = layers.Dropout(0.5)(x)\n",
        "decoder_outputs = layers.Dense(vocab_size, activation=\"softmax\")(x)\n",
        "decoder = keras.Model([decoder_inputs, encoded_seq_inputs], decoder_outputs)\n",
        "\n",
        "decoder_outputs = decoder([decoder_inputs, encoder_outputs])\n",
        "transformer = keras.Model(\n",
        "    [encoder_inputs, decoder_inputs], decoder_outputs, name=\"transformer\"\n",
        ")"
      ],
      "metadata": {
        "id": "3c-eA36Dm5E7"
      },
      "execution_count": null,
      "outputs": []
    },
    {
      "cell_type": "code",
      "source": [
        "transformer.summary()"
      ],
      "metadata": {
        "colab": {
          "base_uri": "https://localhost:8080/"
        },
        "id": "MDaoJzBAnNQS",
        "outputId": "83f80500-3d4e-4f1a-b38b-ad4dc8387a5e"
      },
      "execution_count": null,
      "outputs": [
        {
          "output_type": "stream",
          "name": "stdout",
          "text": [
            "Model: \"transformer\"\n",
            "__________________________________________________________________________________________________\n",
            " Layer (type)                   Output Shape         Param #     Connected to                     \n",
            "==================================================================================================\n",
            " encoder_inputs (InputLayer)    [(None, None)]       0           []                               \n",
            "                                                                                                  \n",
            " positional_embedding (Position  (None, None, 256)   3845120     ['encoder_inputs[0][0]']         \n",
            " alEmbedding)                                                                                     \n",
            "                                                                                                  \n",
            " decoder_inputs (InputLayer)    [(None, None)]       0           []                               \n",
            "                                                                                                  \n",
            " transformer_encoder (Transform  (None, None, 256)   3155456     ['positional_embedding[0][0]']   \n",
            " erEncoder)                                                                                       \n",
            "                                                                                                  \n",
            " model_1 (Functional)           (None, None, 15000)  12959640    ['decoder_inputs[0][0]',         \n",
            "                                                                  'transformer_encoder[0][0]']    \n",
            "                                                                                                  \n",
            "==================================================================================================\n",
            "Total params: 19,960,216\n",
            "Trainable params: 19,960,216\n",
            "Non-trainable params: 0\n",
            "__________________________________________________________________________________________________\n"
          ]
        }
      ]
    },
    {
      "cell_type": "code",
      "source": [
        "transformer.compile(\"rmsprop\", loss=\"sparse_categorical_crossentropy\", metrics=[\"accuracy\"])"
      ],
      "metadata": {
        "id": "iSf9koAYnPlZ"
      },
      "execution_count": null,
      "outputs": []
    },
    {
      "cell_type": "code",
      "source": [
        "epochs = 30\n",
        "transformer.fit(train_ds, epochs=epochs, validation_data=val_ds, batch_size=128)"
      ],
      "metadata": {
        "colab": {
          "base_uri": "https://localhost:8080/"
        },
        "id": "olbCpGdvm8bC",
        "outputId": "0416fe38-3767-484e-d149-80ec86cce871"
      },
      "execution_count": null,
      "outputs": [
        {
          "output_type": "stream",
          "name": "stdout",
          "text": [
            "Epoch 1/30\n",
            "837/837 [==============================] - 352s 412ms/step - loss: 1.9576 - accuracy: 0.3400 - val_loss: 1.6008 - val_accuracy: 0.4100\n",
            "Epoch 2/30\n",
            "837/837 [==============================] - 344s 411ms/step - loss: 1.6248 - accuracy: 0.4120 - val_loss: 1.4817 - val_accuracy: 0.4368\n",
            "Epoch 3/30\n",
            "837/837 [==============================] - 344s 411ms/step - loss: 1.5213 - accuracy: 0.4378 - val_loss: 1.4035 - val_accuracy: 0.4546\n",
            "Epoch 4/30\n",
            "837/837 [==============================] - 344s 411ms/step - loss: 1.4575 - accuracy: 0.4545 - val_loss: 1.3735 - val_accuracy: 0.4618\n",
            "Epoch 5/30\n",
            "837/837 [==============================] - 344s 411ms/step - loss: 1.4088 - accuracy: 0.4672 - val_loss: 1.3618 - val_accuracy: 0.4672\n",
            "Epoch 6/30\n",
            "837/837 [==============================] - 344s 411ms/step - loss: 1.3701 - accuracy: 0.4779 - val_loss: 1.3581 - val_accuracy: 0.4692\n",
            "Epoch 7/30\n",
            "837/837 [==============================] - 343s 410ms/step - loss: 1.3353 - accuracy: 0.4874 - val_loss: 1.3326 - val_accuracy: 0.4727\n",
            "Epoch 8/30\n",
            "837/837 [==============================] - 343s 410ms/step - loss: 1.3030 - accuracy: 0.4952 - val_loss: 1.3263 - val_accuracy: 0.4768\n",
            "Epoch 9/30\n",
            "837/837 [==============================] - 343s 410ms/step - loss: 1.2747 - accuracy: 0.5019 - val_loss: 1.3298 - val_accuracy: 0.4768\n",
            "Epoch 10/30\n",
            "837/837 [==============================] - 344s 411ms/step - loss: 1.2515 - accuracy: 0.5070 - val_loss: 1.3312 - val_accuracy: 0.4724\n",
            "Epoch 11/30\n",
            "837/837 [==============================] - 344s 411ms/step - loss: 1.2348 - accuracy: 0.5117 - val_loss: 1.3322 - val_accuracy: 0.4742\n",
            "Epoch 12/30\n",
            "837/837 [==============================] - 343s 410ms/step - loss: 1.2201 - accuracy: 0.5169 - val_loss: 1.3333 - val_accuracy: 0.4721\n",
            "Epoch 13/30\n",
            "837/837 [==============================] - 344s 411ms/step - loss: 1.2062 - accuracy: 0.5221 - val_loss: 1.3432 - val_accuracy: 0.4740\n",
            "Epoch 14/30\n",
            "837/837 [==============================] - 344s 411ms/step - loss: 1.1936 - accuracy: 0.5271 - val_loss: 1.3417 - val_accuracy: 0.4742\n",
            "Epoch 15/30\n",
            "837/837 [==============================] - 345s 412ms/step - loss: 1.1817 - accuracy: 0.5314 - val_loss: 1.3451 - val_accuracy: 0.4702\n",
            "Epoch 16/30\n",
            "837/837 [==============================] - 344s 411ms/step - loss: 1.1713 - accuracy: 0.5351 - val_loss: 1.3562 - val_accuracy: 0.4723\n",
            "Epoch 17/30\n",
            "837/837 [==============================] - 344s 411ms/step - loss: 1.1605 - accuracy: 0.5396 - val_loss: 1.3624 - val_accuracy: 0.4646\n",
            "Epoch 18/30\n",
            "837/837 [==============================] - 344s 411ms/step - loss: 1.1498 - accuracy: 0.5436 - val_loss: 1.3672 - val_accuracy: 0.4706\n",
            "Epoch 19/30\n",
            "837/837 [==============================] - 344s 411ms/step - loss: 1.1400 - accuracy: 0.5476 - val_loss: 1.3756 - val_accuracy: 0.4650\n",
            "Epoch 20/30\n",
            "837/837 [==============================] - 344s 411ms/step - loss: 1.1308 - accuracy: 0.5512 - val_loss: 1.3803 - val_accuracy: 0.4710\n",
            "Epoch 21/30\n",
            "837/837 [==============================] - 345s 412ms/step - loss: 1.1211 - accuracy: 0.5552 - val_loss: 1.3804 - val_accuracy: 0.4633\n",
            "Epoch 22/30\n",
            "837/837 [==============================] - 343s 410ms/step - loss: 1.1123 - accuracy: 0.5587 - val_loss: 1.4036 - val_accuracy: 0.4686\n",
            "Epoch 23/30\n",
            "837/837 [==============================] - 344s 411ms/step - loss: 1.1030 - accuracy: 0.5627 - val_loss: 1.3927 - val_accuracy: 0.4664\n",
            "Epoch 24/30\n",
            "837/837 [==============================] - 344s 411ms/step - loss: 1.0944 - accuracy: 0.5662 - val_loss: 1.4032 - val_accuracy: 0.4656\n",
            "Epoch 25/30\n",
            "837/837 [==============================] - 344s 411ms/step - loss: 1.0859 - accuracy: 0.5699 - val_loss: 1.4088 - val_accuracy: 0.4658\n",
            "Epoch 26/30\n",
            "837/837 [==============================] - 344s 411ms/step - loss: 1.0782 - accuracy: 0.5729 - val_loss: 1.4177 - val_accuracy: 0.4628\n",
            "Epoch 27/30\n",
            "837/837 [==============================] - 345s 412ms/step - loss: 1.0697 - accuracy: 0.5764 - val_loss: 1.4217 - val_accuracy: 0.4654\n",
            "Epoch 28/30\n",
            "837/837 [==============================] - 344s 411ms/step - loss: 1.0618 - accuracy: 0.5797 - val_loss: 1.4279 - val_accuracy: 0.4624\n",
            "Epoch 29/30\n",
            "837/837 [==============================] - 345s 412ms/step - loss: 1.0545 - accuracy: 0.5825 - val_loss: 1.4401 - val_accuracy: 0.4646\n",
            "Epoch 30/30\n",
            "837/837 [==============================] - 345s 412ms/step - loss: 1.0467 - accuracy: 0.5857 - val_loss: 1.4419 - val_accuracy: 0.4610\n"
          ]
        },
        {
          "output_type": "execute_result",
          "data": {
            "text/plain": [
              "<keras.callbacks.History at 0x7f2eb9a74b90>"
            ]
          },
          "metadata": {},
          "execution_count": 31
        }
      ]
    },
    {
      "cell_type": "code",
      "source": [
        "fa_vocab = fa_vectorization.get_vocabulary()\n",
        "fa_index_lookup = dict(zip(range(len(fa_vocab)), fa_vocab))\n",
        "max_decoded_sentence_length = 20\n",
        "\n",
        "\n",
        "def decode_sequence(input_sentence):\n",
        "    tokenized_input_sentence = en_vectorization([input_sentence])\n",
        "    decoded_sentence = \"[start]\"\n",
        "    for i in range(max_decoded_sentence_length):\n",
        "        tokenized_target_sentence = fa_vectorization([decoded_sentence])[:, :-1]\n",
        "        predictions = transformer([tokenized_input_sentence, tokenized_target_sentence])\n",
        "\n",
        "        sampled_token_index = np.argmax(predictions[0, i, :])\n",
        "        sampled_token = fa_index_lookup[sampled_token_index]\n",
        "        decoded_sentence += \" \" + sampled_token\n",
        "\n",
        "        if sampled_token == \"[end]\":\n",
        "            break\n",
        "    return decoded_sentence\n",
        "\n",
        "\n"
      ],
      "metadata": {
        "id": "AxtSxoOhn1sp",
        "colab": {
          "base_uri": "https://localhost:8080/",
          "height": 243
        },
        "outputId": "833ae4d2-170c-4232-c0fb-e5990f832750"
      },
      "execution_count": null,
      "outputs": [
        {
          "output_type": "error",
          "ename": "NameError",
          "evalue": "ignored",
          "traceback": [
            "\u001b[0;31m---------------------------------------------------------------------------\u001b[0m",
            "\u001b[0;31mNameError\u001b[0m                                 Traceback (most recent call last)",
            "\u001b[0;32m<ipython-input-1-88b733a8dc95>\u001b[0m in \u001b[0;36m<module>\u001b[0;34m()\u001b[0m\n\u001b[0;32m----> 1\u001b[0;31m \u001b[0mfa_vocab\u001b[0m \u001b[0;34m=\u001b[0m \u001b[0mfa_vectorization\u001b[0m\u001b[0;34m.\u001b[0m\u001b[0mget_vocabulary\u001b[0m\u001b[0;34m(\u001b[0m\u001b[0;34m)\u001b[0m\u001b[0;34m\u001b[0m\u001b[0;34m\u001b[0m\u001b[0m\n\u001b[0m\u001b[1;32m      2\u001b[0m \u001b[0mfa_index_lookup\u001b[0m \u001b[0;34m=\u001b[0m \u001b[0mdict\u001b[0m\u001b[0;34m(\u001b[0m\u001b[0mzip\u001b[0m\u001b[0;34m(\u001b[0m\u001b[0mrange\u001b[0m\u001b[0;34m(\u001b[0m\u001b[0mlen\u001b[0m\u001b[0;34m(\u001b[0m\u001b[0mfa_vocab\u001b[0m\u001b[0;34m)\u001b[0m\u001b[0;34m)\u001b[0m\u001b[0;34m,\u001b[0m \u001b[0mfa_vocab\u001b[0m\u001b[0;34m)\u001b[0m\u001b[0;34m)\u001b[0m\u001b[0;34m\u001b[0m\u001b[0;34m\u001b[0m\u001b[0m\n\u001b[1;32m      3\u001b[0m \u001b[0mmax_decoded_sentence_length\u001b[0m \u001b[0;34m=\u001b[0m \u001b[0;36m20\u001b[0m\u001b[0;34m\u001b[0m\u001b[0;34m\u001b[0m\u001b[0m\n\u001b[1;32m      4\u001b[0m \u001b[0;34m\u001b[0m\u001b[0m\n\u001b[1;32m      5\u001b[0m \u001b[0;34m\u001b[0m\u001b[0m\n",
            "\u001b[0;31mNameError\u001b[0m: name 'fa_vectorization' is not defined"
          ]
        }
      ]
    },
    {
      "cell_type": "code",
      "source": [
        "test_eng_texts = [pair[0] for pair in test_pairs]\n",
        "for _ in range(30):\n",
        "    input_sentence = random.choice(test_eng_texts)\n",
        "    translated = decode_sequence(input_sentence)\n",
        "    print(input_sentence,translated)"
      ],
      "metadata": {
        "colab": {
          "base_uri": "https://localhost:8080/"
        },
        "id": "V0jQyKtuLTGk",
        "outputId": "326c2122-d6e5-44d6-c00b-c8cb400e24b3"
      },
      "execution_count": null,
      "outputs": [
        {
          "output_type": "stream",
          "name": "stdout",
          "text": [
            "go around  <start> بيا بيا end    end     end      end end \n",
            "axe gang my ass  <start> دو دو هاي را end       end  را    end end \n",
            "there was nothing that ever scared you nothin  <start> اون اين به اين يک يک تو را end     end     end \n",
            "get that you get it  <start> تو چي end    که     end      end end \n",
            "for starters i had to cover your ass i didnt ask you to  <start> براي من من من را را را را را را را را را را را را را را را را\n",
            "they see the wealth of lionath on offer that seems more real than any alliance  <start> اونا يک يک يک از يک را را را را را را را را را را end  end \n",
            "well find him just hang in there miss and we will get to you  <start> حالا چي که بايد را را را را را را را را را را کنيم end   کنيم \n",
            "true to our ways and you will always be worthy of this  <start> اونا يک يک ما را را را را را را را end  را    را end \n",
            "you dont know what its like to be afraid of your powers afraid to get close to anybody  <start> تو فکر را بايد را را را را را را را را را را را را را را را را\n",
            "daylight deals a bad hand  <start> يه يک را end        end      end end \n",
            "im not quite a cripple yet  <start> من من من نيست من نه end    که end  که     end \n",
            "shaun didnt ask you to come here you came for the same reason i did  <start> يه من به تو تو تو تو تو تو تو تو تو تو تو تو تو end  را \n",
            "or the daily news  <start> و يک end     و    end  end     end \n",
            "never lost a case  <start> اون يک يک را end       end  را  end   end \n",
            "here if you just give me till spring  <start> اون حالا من که به من تو تو را را end   end     end \n",
            "sirius what is doing here if someone see you  <start> تو چي که چي را را را را را end        end end \n",
            "youre so full of shit what because were from the same neighborhood  <start> تو بايد بايد را را را را را را را را را را را را را را را را را\n",
            "uh mr dinorscio youre on  <start> اوه آقاي آقاي بيا end  end       end     end \n",
            "course it is  <start> يه end         end   کن  end   end \n",
            "im living with this tristan as you said we must  <start> من يک بايد را را را را را را را end        end \n",
            "then we have an accord  <start> حالا ما ما را را end      end  را    end را \n",
            "yep its not that taxing is it  <start> اون اين نيست end       که end    که   کن \n",
            "captain raye access granted  <start> دو هاي هاي را end       end      end end \n",
            "hes the holy halfdead who has seen the underverse  <start> اون يک يک را را را را را را end    را     end \n",
            "theyll be here soon i think they wanna help us  <start> اون چي که چي که بايد را را را را end       را end \n",
            "the lord of the darkness it is not resting  <start> در يک يک end        end  نيست  end  end end \n",
            "and with god shall i remain  <start> و من من را را را end    را را  end     end \n",
            "do not move  <start> اون نيست end     end      end     end \n",
            "their future  <start> هاي را end        end   end     end \n",
            "cant you just turn it off lock em out  <start> من تو به من را را را را را end    را    را کن \n"
          ]
        }
      ]
    },
    {
      "cell_type": "code",
      "source": [
        ""
      ],
      "metadata": {
        "id": "N5583XxlOReW"
      },
      "execution_count": null,
      "outputs": []
    }
  ],
  "metadata": {
    "colab": {
      "collapsed_sections": [],
      "name": "machine_translation_transformer.ipynb",
      "provenance": []
    },
    "kernelspec": {
      "display_name": "Python 3",
      "name": "python3"
    },
    "language_info": {
      "name": "python"
    },
    "gpuClass": "standard",
    "accelerator": "GPU"
  },
  "nbformat": 4,
  "nbformat_minor": 0
}